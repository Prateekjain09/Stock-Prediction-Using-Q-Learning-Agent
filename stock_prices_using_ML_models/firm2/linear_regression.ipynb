{
  "nbformat": 4,
  "nbformat_minor": 0,
  "metadata": {
    "colab": {
      "name": "linear_regression.ipynb",
      "provenance": []
    },
    "kernelspec": {
      "name": "python3",
      "display_name": "Python 3"
    },
    "language_info": {
      "name": "python"
    }
  },
  "cells": [
    {
      "cell_type": "code",
      "metadata": {
        "id": "EXtkRaJT61hx"
      },
      "source": [
        "from sklearn import neighbors\n",
        "from sklearn.model_selection import GridSearchCV\n",
        "from sklearn.preprocessing import MinMaxScaler\n",
        "scaler = MinMaxScaler(feature_range=(0, 1))\n",
        "import fastai.tabular\n",
        "import numpy as np\n",
        "import pandas as pd\n",
        "import matplotlib.pyplot as plt\n",
        "from keras.models import Sequential\n",
        "from keras.layers import Dense, Dropout, LSTM\n",
        "from fastai.tabular import  add_datepart"
      ],
      "execution_count": 83,
      "outputs": []
    },
    {
      "cell_type": "code",
      "metadata": {
        "id": "thquDitFd7A8"
      },
      "source": [
        "filename='TATAPOWER.NS.csv'  #change filename\n",
        "df=pd.read_csv(filename)"
      ],
      "execution_count": 84,
      "outputs": []
    },
    {
      "cell_type": "code",
      "metadata": {
        "id": "oI5dREBYdIjr"
      },
      "source": [
        "#creating dataframe\n",
        "data = df.sort_index(ascending=True, axis=0)\n",
        "new_data = pd.DataFrame(index=range(0,len(df)),columns=['Date', 'Adj Close'])\n",
        "for i in range(0,len(data)):\n",
        "    new_data['Date'][i] = data['Date'][i]\n",
        "    new_data['Adj Close'][i] = data['Adj Close'][i]\n"
      ],
      "execution_count": 85,
      "outputs": []
    },
    {
      "cell_type": "code",
      "metadata": {
        "colab": {
          "base_uri": "https://localhost:8080/"
        },
        "id": "Usg7FoeU9QdD",
        "outputId": "a7a2c8c9-1066-452f-8c9c-0467ca612f7d"
      },
      "source": [
        "add_datepart(new_data, 'Date')\n",
        "new_data.drop('Elapsed', axis=1, inplace=True)  #elapsed will be the time stamp\n",
        "# new_data = new_data.dropna(how='any',axis=0)\n"
      ],
      "execution_count": 86,
      "outputs": [
        {
          "output_type": "stream",
          "text": [
            "/usr/local/lib/python3.7/dist-packages/fastai/tabular/transform.py:63: FutureWarning: Series.dt.weekofyear and Series.dt.week have been deprecated.  Please use Series.dt.isocalendar().week instead.\n",
            "  for n in attr: df[prefix + n] = getattr(field.dt, n.lower())\n"
          ],
          "name": "stderr"
        }
      ]
    },
    {
      "cell_type": "code",
      "metadata": {
        "colab": {
          "base_uri": "https://localhost:8080/"
        },
        "id": "WDPq5CzVUx4g",
        "outputId": "088f6364-6bb5-43a0-c4c1-49e059df187b"
      },
      "source": [
        "print(new_data)"
      ],
      "execution_count": 87,
      "outputs": [
        {
          "output_type": "stream",
          "text": [
            "     Adj Close  Year  Month  ...  Is_quarter_start  Is_year_end  Is_year_start\n",
            "0      106.125  2010      1  ...             False        False          False\n",
            "1      107.672  2010      1  ...             False        False          False\n",
            "2      112.668  2010      1  ...             False        False          False\n",
            "3      113.134  2010      1  ...             False        False          False\n",
            "4      113.072  2010      1  ...             False        False          False\n",
            "...        ...   ...    ...  ...               ...          ...            ...\n",
            "2463   54.0096  2019     12  ...             False        False          False\n",
            "2464   54.3486  2019     12  ...             False        False          False\n",
            "2465   53.4283  2019     12  ...             False        False          False\n",
            "2466   54.3486  2019     12  ...             False        False          False\n",
            "2467   54.6877  2019     12  ...             False        False          False\n",
            "\n",
            "[2468 rows x 13 columns]\n"
          ],
          "name": "stdout"
        }
      ]
    },
    {
      "cell_type": "code",
      "metadata": {
        "colab": {
          "base_uri": "https://localhost:8080/"
        },
        "id": "lLb2H1gs9XQl",
        "outputId": "c1569d40-5024-42e2-fa7f-4ec6b4b2c955"
      },
      "source": [
        "new_data['mon_fri'] = 0\n",
        "for i in range(0,len(new_data)):\n",
        "    if (new_data['Dayofweek'][i] == 0 or new_data['Dayofweek'][i] == 4):\n",
        "        new_data['mon_fri'][i] = 1\n",
        "    else:\n",
        "        new_data['mon_fri'][i] = 0"
      ],
      "execution_count": 88,
      "outputs": [
        {
          "output_type": "stream",
          "text": [
            "/usr/local/lib/python3.7/dist-packages/ipykernel_launcher.py:4: SettingWithCopyWarning: \n",
            "A value is trying to be set on a copy of a slice from a DataFrame\n",
            "\n",
            "See the caveats in the documentation: https://pandas.pydata.org/pandas-docs/stable/user_guide/indexing.html#returning-a-view-versus-a-copy\n",
            "  after removing the cwd from sys.path.\n",
            "/usr/local/lib/python3.7/dist-packages/ipykernel_launcher.py:6: SettingWithCopyWarning: \n",
            "A value is trying to be set on a copy of a slice from a DataFrame\n",
            "\n",
            "See the caveats in the documentation: https://pandas.pydata.org/pandas-docs/stable/user_guide/indexing.html#returning-a-view-versus-a-copy\n",
            "  \n"
          ],
          "name": "stderr"
        }
      ]
    },
    {
      "cell_type": "code",
      "metadata": {
        "id": "oQh5qGF_9hTB"
      },
      "source": [
        "#split into train and validation\n",
        "new_data = new_data.dropna(how='any',axis=0)\n",
        "\n",
        "train_len= int(0.8*len(data))\n",
        "train = new_data[:train_len]\n",
        "valid = new_data[train_len:]\n",
        "\n",
        "x_train = train.drop('Adj Close', axis=1)\n",
        "y_train = train['Adj Close']\n",
        "x_valid = valid.drop('Adj Close', axis=1)\n",
        "y_valid = valid['Adj Close']"
      ],
      "execution_count": 89,
      "outputs": []
    },
    {
      "cell_type": "code",
      "metadata": {
        "id": "i5rITnZy9oZo",
        "colab": {
          "base_uri": "https://localhost:8080/"
        },
        "outputId": "132f553f-ac16-4994-b252-0bb91a8fc8d7"
      },
      "source": [
        "#implement linear regression\n",
        "from sklearn.linear_model import LinearRegression\n",
        "model = LinearRegression()\n",
        "model.fit(x_train,y_train)"
      ],
      "execution_count": 90,
      "outputs": [
        {
          "output_type": "execute_result",
          "data": {
            "text/plain": [
              "LinearRegression(copy_X=True, fit_intercept=True, n_jobs=None, normalize=False)"
            ]
          },
          "metadata": {
            "tags": []
          },
          "execution_count": 90
        }
      ]
    },
    {
      "cell_type": "code",
      "metadata": {
        "colab": {
          "base_uri": "https://localhost:8080/"
        },
        "id": "GXowAzXw9sFq",
        "outputId": "1a1c0ba0-f12d-4d33-9cfd-880939ad0327"
      },
      "source": [
        "preds = model.predict(x_valid)\n",
        "\n",
        "rms=np.sqrt(np.mean(np.power((np.array(y_valid)-np.array(preds)),2)))\n",
        "rms"
      ],
      "execution_count": 91,
      "outputs": [
        {
          "output_type": "execute_result",
          "data": {
            "text/plain": [
              "14.593120364595263"
            ]
          },
          "metadata": {
            "tags": []
          },
          "execution_count": 91
        }
      ]
    },
    {
      "cell_type": "code",
      "metadata": {
        "colab": {
          "base_uri": "https://localhost:8080/",
          "height": 483
        },
        "id": "ugDb2xFrdv9k",
        "outputId": "7f2e9fab-82ab-4909-ba2c-417c7bdae248"
      },
      "source": [
        "#plot\n",
        "valid['Predictions'] = 0\n",
        "valid['Predictions'] = preds\n",
        "plt.plot(valid[['Adj Close', 'Predictions']])\n",
        "plt.plot(train['Adj Close'])\n"
      ],
      "execution_count": 92,
      "outputs": [
        {
          "output_type": "stream",
          "text": [
            "/usr/local/lib/python3.7/dist-packages/ipykernel_launcher.py:2: SettingWithCopyWarning: \n",
            "A value is trying to be set on a copy of a slice from a DataFrame.\n",
            "Try using .loc[row_indexer,col_indexer] = value instead\n",
            "\n",
            "See the caveats in the documentation: https://pandas.pydata.org/pandas-docs/stable/user_guide/indexing.html#returning-a-view-versus-a-copy\n",
            "  \n",
            "/usr/local/lib/python3.7/dist-packages/ipykernel_launcher.py:3: SettingWithCopyWarning: \n",
            "A value is trying to be set on a copy of a slice from a DataFrame.\n",
            "Try using .loc[row_indexer,col_indexer] = value instead\n",
            "\n",
            "See the caveats in the documentation: https://pandas.pydata.org/pandas-docs/stable/user_guide/indexing.html#returning-a-view-versus-a-copy\n",
            "  This is separate from the ipykernel package so we can avoid doing imports until\n"
          ],
          "name": "stderr"
        },
        {
          "output_type": "execute_result",
          "data": {
            "text/plain": [
              "[<matplotlib.lines.Line2D at 0x7f5193c29d50>]"
            ]
          },
          "metadata": {
            "tags": []
          },
          "execution_count": 92
        },
        {
          "output_type": "display_data",
          "data": {
            "image/png": "[encoded data removed]",
            "text/plain": [
              "<Figure size 432x288 with 1 Axes>"
            ]
          },
          "metadata": {
            "tags": [],
            "needs_background": "light"
          }
        }
      ]
    },
    {
      "cell_type": "code",
      "metadata": {
        "id": "SFRiu4O3ANmy",
        "colab": {
          "base_uri": "https://localhost:8080/"
        },
        "outputId": "0aead3ab-7c1e-4b58-fb29-dedb79c19f1a"
      },
      "source": [
        "model.score(x_valid,y_valid)"
      ],
      "execution_count": 93,
      "outputs": [
        {
          "output_type": "execute_result",
          "data": {
            "text/plain": [
              "-2.7619376878139996"
            ]
          },
          "metadata": {
            "tags": []
          },
          "execution_count": 93
        }
      ]
    },
    {
      "cell_type": "code",
      "metadata": {
        "id": "d0WW08p_VzMF"
      },
      "source": [
        ""
      ],
      "execution_count": 93,
      "outputs": []
    }
  ]
}