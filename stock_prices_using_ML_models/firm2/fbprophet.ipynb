{
  "nbformat": 4,
  "nbformat_minor": 0,
  "metadata": {
    "colab": {
      "name": "fbprophet.ipynb",
      "provenance": []
    },
    "kernelspec": {
      "name": "python3",
      "display_name": "Python 3"
    },
    "language_info": {
      "name": "python"
    }
  },
  "cells": [
    {
      "cell_type": "code",
      "metadata": {
        "id": "5r77v55_d0QB"
      },
      "source": [
        "import numpy as np\n",
        "import pandas as pd\n",
        "import matplotlib.pyplot as plt\n",
        "from fbprophet import Prophet\n",
        "from sklearn.preprocessing import MinMaxScaler\n",
        "from keras.models import Sequential\n",
        "from keras.layers import Dense, Dropout, LSTM\n"
      ],
      "execution_count": 19,
      "outputs": []
    },
    {
      "cell_type": "code",
      "metadata": {
        "id": "thquDitFd7A8"
      },
      "source": [
        "filename='TATAPOWER.NS.csv'\n",
        "df=pd.read_csv(filename)"
      ],
      "execution_count": 20,
      "outputs": []
    },
    {
      "cell_type": "code",
      "metadata": {
        "id": "oI5dREBYdIjr"
      },
      "source": [
        "data = df.sort_index(ascending=True, axis=0)\n",
        "new_data = pd.DataFrame(index=range(0,len(df)),columns=['Date', 'Adj Close'])\n",
        "for i in range(0,len(data)):\n",
        "    new_data['Date'][i] = data['Date'][i]\n",
        "    new_data['Adj Close'][i] = data['Adj Close'][i]\n",
        "\n",
        "new_data.index = new_data.Date\n",
        "new_data = new_data.dropna(how='any',axis=0) #cleaning data"
      ],
      "execution_count": 21,
      "outputs": []
    },
    {
      "cell_type": "code",
      "metadata": {
        "colab": {
          "base_uri": "https://localhost:8080/"
        },
        "id": "Jm9VLAPVQq-w",
        "outputId": "87ce0d61-c08a-47a0-9847-20a453f67df5"
      },
      "source": [
        "new_data.rename(columns={'Adj Close': 'y', 'Date': 'ds'}, inplace=True)\n",
        "train_len= int(0.8*len(data))\n",
        "#train and validation\n",
        "train = new_data[:train_len]\n",
        "valid = new_data[train_len:]\n",
        "\n",
        "#fit the model\n",
        "model = Prophet()\n",
        "model.fit(train)\n",
        "\n",
        "#predictions\n",
        "close_prices = model.make_future_dataframe(periods=len(valid))\n",
        "forecast = model.predict(close_prices)"
      ],
      "execution_count": 22,
      "outputs": [
        {
          "output_type": "stream",
          "text": [
            "INFO:fbprophet:Disabling daily seasonality. Run prophet with daily_seasonality=True to override this.\n"
          ],
          "name": "stderr"
        }
      ]
    },
    {
      "cell_type": "code",
      "metadata": {
        "colab": {
          "base_uri": "https://localhost:8080/"
        },
        "id": "ePBu_WvRdyfM",
        "outputId": "687bfdd2-ceb6-4d7b-b22a-5d8fbb3fe581"
      },
      "source": [
        "#rmse\n",
        "forecast_valid = forecast['yhat'][train_len:]\n",
        "rms=np.sqrt(np.mean(np.power((np.array(valid['y'])-np.array(forecast_valid)),2)))\n",
        "rms"
      ],
      "execution_count": 23,
      "outputs": [
        {
          "output_type": "execute_result",
          "data": {
            "text/plain": [
              "23.46582839816273"
            ]
          },
          "metadata": {
            "tags": []
          },
          "execution_count": 23
        }
      ]
    },
    {
      "cell_type": "code",
      "metadata": {
        "colab": {
          "base_uri": "https://localhost:8080/",
          "height": 671
        },
        "id": "ugDb2xFrdv9k",
        "outputId": "85e8d6f6-4833-41a1-9e73-2de7292ae997"
      },
      "source": [
        "valid['Predictions'] = 0\n",
        "valid['Predictions'] = forecast_valid.values\n",
        "\n",
        "plt.plot(train['y'])\n",
        "plt.plot(valid[['y', 'Predictions']])"
      ],
      "execution_count": 24,
      "outputs": [
        {
          "output_type": "stream",
          "text": [
            "/usr/local/lib/python3.7/dist-packages/ipykernel_launcher.py:1: SettingWithCopyWarning:\n",
            "\n",
            "\n",
            "A value is trying to be set on a copy of a slice from a DataFrame.\n",
            "Try using .loc[row_indexer,col_indexer] = value instead\n",
            "\n",
            "See the caveats in the documentation: https://pandas.pydata.org/pandas-docs/stable/user_guide/indexing.html#returning-a-view-versus-a-copy\n",
            "\n",
            "/usr/local/lib/python3.7/dist-packages/ipykernel_launcher.py:2: SettingWithCopyWarning:\n",
            "\n",
            "\n",
            "A value is trying to be set on a copy of a slice from a DataFrame.\n",
            "Try using .loc[row_indexer,col_indexer] = value instead\n",
            "\n",
            "See the caveats in the documentation: https://pandas.pydata.org/pandas-docs/stable/user_guide/indexing.html#returning-a-view-versus-a-copy\n",
            "\n",
            "INFO:matplotlib.category:Using categorical units to plot a list of strings that are all parsable as floats or dates. If these strings should be plotted as numbers, cast to the appropriate data type before plotting.\n",
            "INFO:matplotlib.category:Using categorical units to plot a list of strings that are all parsable as floats or dates. If these strings should be plotted as numbers, cast to the appropriate data type before plotting.\n",
            "INFO:matplotlib.category:Using categorical units to plot a list of strings that are all parsable as floats or dates. If these strings should be plotted as numbers, cast to the appropriate data type before plotting.\n",
            "INFO:matplotlib.category:Using categorical units to plot a list of strings that are all parsable as floats or dates. If these strings should be plotted as numbers, cast to the appropriate data type before plotting.\n",
            "INFO:matplotlib.category:Using categorical units to plot a list of strings that are all parsable as floats or dates. If these strings should be plotted as numbers, cast to the appropriate data type before plotting.\n"
          ],
          "name": "stderr"
        },
        {
          "output_type": "execute_result",
          "data": {
            "text/plain": [
              "[<matplotlib.lines.Line2D at 0x7ffaca871350>,\n",
              " <matplotlib.lines.Line2D at 0x7ffac89f09d0>]"
            ]
          },
          "metadata": {
            "tags": []
          },
          "execution_count": 24
        },
        {
          "output_type": "display_data",
          "data": {
            "image/png": "[encoded data removed]",
            "text/plain": [
              "<Figure size 432x288 with 1 Axes>"
            ]
          },
          "metadata": {
            "tags": [],
            "needs_background": "light"
          }
        }
      ]
    },
    {
      "cell_type": "code",
      "metadata": {
        "id": "iWkyQnc8HejL"
      },
      "source": [
        ""
      ],
      "execution_count": 24,
      "outputs": []
    }
  ]
}