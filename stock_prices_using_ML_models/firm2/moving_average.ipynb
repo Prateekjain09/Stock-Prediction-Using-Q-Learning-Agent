{
  "nbformat": 4,
  "nbformat_minor": 0,
  "metadata": {
    "colab": {
      "name": "moving_average.ipynb",
      "provenance": []
    },
    "kernelspec": {
      "name": "python3",
      "display_name": "Python 3"
    },
    "language_info": {
      "name": "python"
    }
  },
  "cells": [
    {
      "cell_type": "code",
      "metadata": {
        "id": "7QgbWY5xV3df"
      },
      "source": [
        "import numpy as np\n",
        "import pandas as pd\n",
        "import matplotlib.pyplot as plt"
      ],
      "execution_count": 39,
      "outputs": []
    },
    {
      "cell_type": "code",
      "metadata": {
        "id": "S15MHQCRV6Q7"
      },
      "source": [
        "filename='TATAPOWER.NS.csv'  #change filename\n",
        "df=pd.read_csv(filename)"
      ],
      "execution_count": 40,
      "outputs": []
    },
    {
      "cell_type": "code",
      "metadata": {
        "colab": {
          "base_uri": "https://localhost:8080/"
        },
        "id": "yXSajxoHWctk",
        "outputId": "9ff12f42-d573-420d-a7be-9386ebe4d825"
      },
      "source": [
        "print(df.head)\n",
        "print(df.shape)"
      ],
      "execution_count": 41,
      "outputs": [
        {
          "output_type": "stream",
          "text": [
            "<bound method NDFrame.head of             Date        Open        High  ...       Close   Adj Close     Volume\n",
            "0     2010-01-04  133.751373  135.097580  ...  134.079483  106.125458  3172720.0\n",
            "1     2010-01-05  134.716400  137.997452  ...  136.033646  107.672203  4254349.0\n",
            "2     2010-01-06  136.067413  144.366562  ...  142.344849  112.667587  8747201.0\n",
            "3     2010-01-07  142.822540  144.945572  ...  142.933517  113.133553  5495560.0\n",
            "4     2010-01-08  143.305054  144.077057  ...  142.856308  113.072418  3916987.0\n",
            "...          ...         ...         ...  ...         ...         ...        ...\n",
            "2463  2019-12-23   55.000000   56.000000  ...   55.750000   54.009567  6340544.0\n",
            "2464  2019-12-24   56.450001   56.650002  ...   56.099998   54.348640  7649247.0\n",
            "2465  2019-12-26   56.000000   56.549999  ...   55.150002   53.428299  4026238.0\n",
            "2466  2019-12-27   55.299999   56.299999  ...   56.099998   54.348640  2983035.0\n",
            "2467  2019-12-30   55.900002   56.700001  ...   56.450001   54.687714  3198070.0\n",
            "\n",
            "[2468 rows x 7 columns]>\n",
            "(2468, 7)\n"
          ],
          "name": "stdout"
        }
      ]
    },
    {
      "cell_type": "code",
      "metadata": {
        "id": "rdZwqcXcWf0B"
      },
      "source": [
        "df['Date'] = pd.to_datetime(df.Date,format='%Y-%m-%d')\n",
        "df.index = df['Date']"
      ],
      "execution_count": 42,
      "outputs": []
    },
    {
      "cell_type": "code",
      "metadata": {
        "id": "VgbeSBolXEhw",
        "colab": {
          "base_uri": "https://localhost:8080/"
        },
        "outputId": "866dd59d-f625-433b-baba-12cff75a4e6d"
      },
      "source": [
        "data = df.sort_index(ascending=True, axis=0)\n",
        "new_data = pd.DataFrame(index=range(0,len(df)),columns=['Date', 'Adj Close'])\n",
        "print(new_data)"
      ],
      "execution_count": 43,
      "outputs": [
        {
          "output_type": "stream",
          "text": [
            "     Date Adj Close\n",
            "0     NaN       NaN\n",
            "1     NaN       NaN\n",
            "2     NaN       NaN\n",
            "3     NaN       NaN\n",
            "4     NaN       NaN\n",
            "...   ...       ...\n",
            "2463  NaN       NaN\n",
            "2464  NaN       NaN\n",
            "2465  NaN       NaN\n",
            "2466  NaN       NaN\n",
            "2467  NaN       NaN\n",
            "\n",
            "[2468 rows x 2 columns]\n"
          ],
          "name": "stdout"
        }
      ]
    },
    {
      "cell_type": "code",
      "metadata": {
        "id": "b2h1tAFnXT-M"
      },
      "source": [
        "for i in range(0,len(data)):\n",
        "     new_data['Date'][i] = data['Date'][i]\n",
        "     new_data['Adj Close'][i] = data['Adj Close'][i]\n",
        "new_data = new_data.dropna(how='any',axis=0)\n"
      ],
      "execution_count": 44,
      "outputs": []
    },
    {
      "cell_type": "code",
      "metadata": {
        "colab": {
          "base_uri": "https://localhost:8080/"
        },
        "id": "sHnQRhgPXdyS",
        "outputId": "7a5a1b7b-7dea-45ae-8307-b93bef587b37"
      },
      "source": [
        "print(new_data)"
      ],
      "execution_count": 45,
      "outputs": [
        {
          "output_type": "stream",
          "text": [
            "                     Date Adj Close\n",
            "0     2010-01-04 00:00:00   106.125\n",
            "1     2010-01-05 00:00:00   107.672\n",
            "2     2010-01-06 00:00:00   112.668\n",
            "3     2010-01-07 00:00:00   113.134\n",
            "4     2010-01-08 00:00:00   113.072\n",
            "...                   ...       ...\n",
            "2463  2019-12-23 00:00:00   54.0096\n",
            "2464  2019-12-24 00:00:00   54.3486\n",
            "2465  2019-12-26 00:00:00   53.4283\n",
            "2466  2019-12-27 00:00:00   54.3486\n",
            "2467  2019-12-30 00:00:00   54.6877\n",
            "\n",
            "[2460 rows x 2 columns]\n"
          ],
          "name": "stdout"
        }
      ]
    },
    {
      "cell_type": "code",
      "metadata": {
        "id": "jYHBJKrQYgN2"
      },
      "source": [
        "#split into train and validation\n",
        "train_len= int(0.8*len(data))\n",
        "train = new_data[:train_len]\n",
        "valid = new_data[train_len:]\n",
        "# print(train.shape)\n",
        "# print(valid.shape)\n"
      ],
      "execution_count": 46,
      "outputs": []
    },
    {
      "cell_type": "code",
      "metadata": {
        "id": "_Ospf9akZDUY"
      },
      "source": [
        "preds = []\n",
        "for i in range(0,valid.shape[0]):\n",
        "    a = train['Adj Close'][len(train)-480+i:].sum() + sum(preds)\n",
        "    b = a/488\n",
        "    preds.append(b)\n",
        "\n"
      ],
      "execution_count": 47,
      "outputs": []
    },
    {
      "cell_type": "code",
      "metadata": {
        "colab": {
          "base_uri": "https://localhost:8080/"
        },
        "id": "W0Mgtmt4ZXbo",
        "outputId": "b0a26ce6-94ab-4dac-9c43-9c0781896a67"
      },
      "source": [
        "rms=np.sqrt(np.mean(np.power((np.array(valid['Adj Close'])-preds),2)))\n",
        "print('\\n RMSE value on validation set:')\n",
        "print(rms)"
      ],
      "execution_count": 48,
      "outputs": [
        {
          "output_type": "stream",
          "text": [
            "\n",
            " RMSE value on validation set:\n",
            "8.075094229893782\n"
          ],
          "name": "stdout"
        }
      ]
    },
    {
      "cell_type": "code",
      "metadata": {
        "id": "zNtitQO6ZgdZ",
        "colab": {
          "base_uri": "https://localhost:8080/",
          "height": 500
        },
        "outputId": "0b02384a-660c-48d7-e3b4-5d911b1e6316"
      },
      "source": [
        "valid['Predictions'] = 0\n",
        "valid['Predictions'] = preds\n",
        "plt.plot(train['Adj Close'])\n",
        "plt.plot(valid[['Adj Close', 'Predictions']])"
      ],
      "execution_count": 49,
      "outputs": [
        {
          "output_type": "stream",
          "text": [
            "/usr/local/lib/python3.7/dist-packages/ipykernel_launcher.py:1: SettingWithCopyWarning: \n",
            "A value is trying to be set on a copy of a slice from a DataFrame.\n",
            "Try using .loc[row_indexer,col_indexer] = value instead\n",
            "\n",
            "See the caveats in the documentation: https://pandas.pydata.org/pandas-docs/stable/user_guide/indexing.html#returning-a-view-versus-a-copy\n",
            "  \"\"\"Entry point for launching an IPython kernel.\n",
            "/usr/local/lib/python3.7/dist-packages/ipykernel_launcher.py:2: SettingWithCopyWarning: \n",
            "A value is trying to be set on a copy of a slice from a DataFrame.\n",
            "Try using .loc[row_indexer,col_indexer] = value instead\n",
            "\n",
            "See the caveats in the documentation: https://pandas.pydata.org/pandas-docs/stable/user_guide/indexing.html#returning-a-view-versus-a-copy\n",
            "  \n"
          ],
          "name": "stderr"
        },
        {
          "output_type": "execute_result",
          "data": {
            "text/plain": [
              "[<matplotlib.lines.Line2D at 0x7fedeb2b3450>,\n",
              " <matplotlib.lines.Line2D at 0x7fedeb2b3650>]"
            ]
          },
          "metadata": {
            "tags": []
          },
          "execution_count": 49
        },
        {
          "output_type": "display_data",
          "data": {
            "image/png": "[encoded data removed]",
            "text/plain": [
              "<Figure size 432x288 with 1 Axes>"
            ]
          },
          "metadata": {
            "tags": [],
            "needs_background": "light"
          }
        }
      ]
    },
    {
      "cell_type": "code",
      "metadata": {
        "id": "pE6Y7b27dAnr"
      },
      "source": [
        ""
      ],
      "execution_count": 49,
      "outputs": []
    }
  ]
}