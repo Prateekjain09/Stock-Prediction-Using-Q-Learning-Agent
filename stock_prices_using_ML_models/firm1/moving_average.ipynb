{
  "nbformat": 4,
  "nbformat_minor": 0,
  "metadata": {
    "colab": {
      "name": "moving_average.ipynb",
      "provenance": []
    },
    "kernelspec": {
      "name": "python3",
      "display_name": "Python 3"
    },
    "language_info": {
      "name": "python"
    }
  },
  "cells": [
    {
      "cell_type": "code",
      "metadata": {
        "id": "7QgbWY5xV3df"
      },
      "source": [
        "import numpy as np\n",
        "import pandas as pd\n",
        "import matplotlib.pyplot as plt"
      ],
      "execution_count": 7,
      "outputs": []
    },
    {
      "cell_type": "code",
      "metadata": {
        "id": "S15MHQCRV6Q7"
      },
      "source": [
        "filename='RCOM.BO.csv'  #change filename\n",
        "df=pd.read_csv(filename)"
      ],
      "execution_count": 8,
      "outputs": []
    },
    {
      "cell_type": "code",
      "metadata": {
        "colab": {
          "base_uri": "https://localhost:8080/"
        },
        "id": "yXSajxoHWctk",
        "outputId": "c67fea5c-8061-45d1-978a-336ef41e9ad4"
      },
      "source": [
        "print(df.head)\n",
        "print(df.shape)"
      ],
      "execution_count": 9,
      "outputs": [
        {
          "output_type": "stream",
          "text": [
            "<bound method NDFrame.head of             Date        Open        High  ...       Close   Adj Close   Volume\n",
            "0     04-01-2010  175.899994  175.899994  ...  175.149994  172.052719   765307\n",
            "1     05-01-2010  175.899994  182.100006  ...  181.300003  178.093979  2292252\n",
            "2     06-01-2010  183.000000  184.449997  ...  181.699997  178.486908  1484703\n",
            "3     07-01-2010  183.600006  185.300003  ...  183.449997  180.205963  1259183\n",
            "4     08-01-2010  184.449997  185.000000  ...  180.699997  177.504593  1012930\n",
            "...          ...         ...         ...  ...         ...         ...      ...\n",
            "2455  23-12-2019    0.860000    0.890000  ...    0.860000    0.860000   932852\n",
            "2456  24-12-2019    0.820000    0.850000  ...    0.830000    0.830000  2308987\n",
            "2457  26-12-2019    0.850000    0.870000  ...    0.870000    0.870000  1856723\n",
            "2458  27-12-2019    0.910000    0.910000  ...    0.890000    0.890000  1868053\n",
            "2459  30-12-2019    0.890000    0.890000  ...    0.870000    0.870000  2194029\n",
            "\n",
            "[2460 rows x 7 columns]>\n",
            "(2460, 7)\n"
          ],
          "name": "stdout"
        }
      ]
    },
    {
      "cell_type": "code",
      "metadata": {
        "id": "rdZwqcXcWf0B"
      },
      "source": [
        "df['Date'] = pd.to_datetime(df.Date,format='%d-%m-%Y')\n",
        "df.index = df['Date']"
      ],
      "execution_count": 10,
      "outputs": []
    },
    {
      "cell_type": "code",
      "metadata": {
        "id": "VgbeSBolXEhw",
        "colab": {
          "base_uri": "https://localhost:8080/"
        },
        "outputId": "01bab5ab-07f0-4345-9096-40c361b12416"
      },
      "source": [
        "data = df.sort_index(ascending=True, axis=0)\n",
        "new_data = pd.DataFrame(index=range(0,len(df)),columns=['Date', 'Adj Close'])\n",
        "print(new_data)"
      ],
      "execution_count": 11,
      "outputs": [
        {
          "output_type": "stream",
          "text": [
            "     Date Adj Close\n",
            "0     NaN       NaN\n",
            "1     NaN       NaN\n",
            "2     NaN       NaN\n",
            "3     NaN       NaN\n",
            "4     NaN       NaN\n",
            "...   ...       ...\n",
            "2455  NaN       NaN\n",
            "2456  NaN       NaN\n",
            "2457  NaN       NaN\n",
            "2458  NaN       NaN\n",
            "2459  NaN       NaN\n",
            "\n",
            "[2460 rows x 2 columns]\n"
          ],
          "name": "stdout"
        }
      ]
    },
    {
      "cell_type": "code",
      "metadata": {
        "id": "b2h1tAFnXT-M"
      },
      "source": [
        "for i in range(0,len(data)):\n",
        "     new_data['Date'][i] = data['Date'][i]\n",
        "     new_data['Adj Close'][i] = data['Adj Close'][i]\n",
        "new_data = new_data.dropna(how='any',axis=0)\n"
      ],
      "execution_count": 12,
      "outputs": []
    },
    {
      "cell_type": "code",
      "metadata": {
        "colab": {
          "base_uri": "https://localhost:8080/"
        },
        "id": "sHnQRhgPXdyS",
        "outputId": "038a8174-e1bd-49d8-e580-abe129039ecd"
      },
      "source": [
        "print(new_data)"
      ],
      "execution_count": 13,
      "outputs": [
        {
          "output_type": "stream",
          "text": [
            "                     Date Adj Close\n",
            "0     2010-01-04 00:00:00   172.053\n",
            "1     2010-01-05 00:00:00   178.094\n",
            "2     2010-01-06 00:00:00   178.487\n",
            "3     2010-01-07 00:00:00   180.206\n",
            "4     2010-01-08 00:00:00   177.505\n",
            "...                   ...       ...\n",
            "2455  2019-12-23 00:00:00      0.86\n",
            "2456  2019-12-24 00:00:00      0.83\n",
            "2457  2019-12-26 00:00:00      0.87\n",
            "2458  2019-12-27 00:00:00      0.89\n",
            "2459  2019-12-30 00:00:00      0.87\n",
            "\n",
            "[2460 rows x 2 columns]\n"
          ],
          "name": "stdout"
        }
      ]
    },
    {
      "cell_type": "code",
      "metadata": {
        "id": "jYHBJKrQYgN2"
      },
      "source": [
        "#split into train and validation\n",
        "train_len= int(0.8*len(data))\n",
        "train = new_data[:train_len]\n",
        "valid = new_data[train_len:]\n",
        "# print(train.shape)\n",
        "# print(valid.shape)\n"
      ],
      "execution_count": 14,
      "outputs": []
    },
    {
      "cell_type": "code",
      "metadata": {
        "id": "_Ospf9akZDUY"
      },
      "source": [
        "preds = []\n",
        "for i in range(0,valid.shape[0]):\n",
        "    a = train['Adj Close'][len(train)-480+i:].sum() + sum(preds)\n",
        "    b = a/488\n",
        "    preds.append(b)\n",
        "\n"
      ],
      "execution_count": 15,
      "outputs": []
    },
    {
      "cell_type": "code",
      "metadata": {
        "colab": {
          "base_uri": "https://localhost:8080/"
        },
        "id": "W0Mgtmt4ZXbo",
        "outputId": "4f32a656-d679-4d3a-fe70-c88cc4be3c89"
      },
      "source": [
        "rms=np.sqrt(np.mean(np.power((np.array(valid['Adj Close'])-preds),2)))\n",
        "print('\\n RMSE value on validation set:')\n",
        "print(rms)"
      ],
      "execution_count": 16,
      "outputs": [
        {
          "output_type": "stream",
          "text": [
            "\n",
            " RMSE value on validation set:\n",
            "19.89086893977396\n"
          ],
          "name": "stdout"
        }
      ]
    },
    {
      "cell_type": "code",
      "metadata": {
        "id": "zNtitQO6ZgdZ",
        "colab": {
          "base_uri": "https://localhost:8080/",
          "height": 500
        },
        "outputId": "fb19aaf6-c11f-4c54-b537-0e652b6954ea"
      },
      "source": [
        "valid['Predictions'] = 0\n",
        "valid['Predictions'] = preds\n",
        "plt.plot(train['Adj Close'])\n",
        "plt.plot(valid[['Adj Close', 'Predictions']])"
      ],
      "execution_count": 17,
      "outputs": [
        {
          "output_type": "stream",
          "text": [
            "/usr/local/lib/python3.7/dist-packages/ipykernel_launcher.py:1: SettingWithCopyWarning: \n",
            "A value is trying to be set on a copy of a slice from a DataFrame.\n",
            "Try using .loc[row_indexer,col_indexer] = value instead\n",
            "\n",
            "See the caveats in the documentation: https://pandas.pydata.org/pandas-docs/stable/user_guide/indexing.html#returning-a-view-versus-a-copy\n",
            "  \"\"\"Entry point for launching an IPython kernel.\n",
            "/usr/local/lib/python3.7/dist-packages/ipykernel_launcher.py:2: SettingWithCopyWarning: \n",
            "A value is trying to be set on a copy of a slice from a DataFrame.\n",
            "Try using .loc[row_indexer,col_indexer] = value instead\n",
            "\n",
            "See the caveats in the documentation: https://pandas.pydata.org/pandas-docs/stable/user_guide/indexing.html#returning-a-view-versus-a-copy\n",
            "  \n"
          ],
          "name": "stderr"
        },
        {
          "output_type": "execute_result",
          "data": {
            "text/plain": [
              "[<matplotlib.lines.Line2D at 0x7fedeb9cf910>,\n",
              " <matplotlib.lines.Line2D at 0x7fedeb9cfad0>]"
            ]
          },
          "metadata": {
            "tags": []
          },
          "execution_count": 17
        },
        {
          "output_type": "display_data",
          "data": {
            "image/png": "[encoded data removed]",
            "text/plain": [
              "<Figure size 432x288 with 1 Axes>"
            ]
          },
          "metadata": {
            "tags": [],
            "needs_background": "light"
          }
        }
      ]
    },
    {
      "cell_type": "code",
      "metadata": {
        "id": "pE6Y7b27dAnr"
      },
      "source": [
        ""
      ],
      "execution_count": 17,
      "outputs": []
    }
  ]
}