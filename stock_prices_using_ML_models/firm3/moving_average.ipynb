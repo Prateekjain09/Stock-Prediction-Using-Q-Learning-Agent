{
  "nbformat": 4,
  "nbformat_minor": 0,
  "metadata": {
    "colab": {
      "name": "moving_average.ipynb",
      "provenance": []
    },
    "kernelspec": {
      "name": "python3",
      "display_name": "Python 3"
    },
    "language_info": {
      "name": "python"
    }
  },
  "cells": [
    {
      "cell_type": "code",
      "metadata": {
        "id": "7QgbWY5xV3df"
      },
      "source": [
        "import numpy as np\n",
        "import pandas as pd\n",
        "import matplotlib.pyplot as plt"
      ],
      "execution_count": 83,
      "outputs": []
    },
    {
      "cell_type": "code",
      "metadata": {
        "id": "S15MHQCRV6Q7"
      },
      "source": [
        "filename='SAIL.NS.csv'  #change filename\n",
        "df=pd.read_csv(filename)"
      ],
      "execution_count": 84,
      "outputs": []
    },
    {
      "cell_type": "code",
      "metadata": {
        "colab": {
          "base_uri": "https://localhost:8080/"
        },
        "id": "yXSajxoHWctk",
        "outputId": "8e40a84f-5ac2-442f-a53f-8d2c37299a31"
      },
      "source": [
        "print(df.head)\n",
        "print(df.shape)"
      ],
      "execution_count": 85,
      "outputs": [
        {
          "output_type": "stream",
          "text": [
            "<bound method NDFrame.head of             Date        Open        High  ...       Close   Adj Close      Volume\n",
            "0     2010-01-04  240.699997  249.399994  ...  247.600006  207.032440  41185530.0\n",
            "1     2010-01-05  252.000000  257.000000  ...  254.550003  212.843765  42852660.0\n",
            "2     2010-01-06  255.550003  267.000000  ...  248.350006  207.659561  49076680.0\n",
            "3     2010-01-07  250.000000  253.300003  ...  241.600006  202.015549  70265120.0\n",
            "4     2010-01-08  242.000000  243.600006  ...  238.850006  199.716095  51182970.0\n",
            "...          ...         ...         ...  ...         ...         ...         ...\n",
            "2463  2019-12-23   41.450001   42.099998  ...   41.000000   40.355347  26796488.0\n",
            "2464  2019-12-24   41.000000   41.450001  ...   41.000000   40.355347  21261677.0\n",
            "2465  2019-12-26   41.250000   42.799999  ...   42.400002   41.733334  40946850.0\n",
            "2466  2019-12-27   42.450001   42.700001  ...   42.150002   41.487267  18880983.0\n",
            "2467  2019-12-30   42.200001   43.349998  ...   43.099998   42.422325  26033812.0\n",
            "\n",
            "[2468 rows x 7 columns]>\n",
            "(2468, 7)\n"
          ],
          "name": "stdout"
        }
      ]
    },
    {
      "cell_type": "code",
      "metadata": {
        "id": "rdZwqcXcWf0B"
      },
      "source": [
        "df['Date'] = pd.to_datetime(df.Date,format='%Y-%m-%d')\n",
        "df.index = df['Date']"
      ],
      "execution_count": 86,
      "outputs": []
    },
    {
      "cell_type": "code",
      "metadata": {
        "id": "VgbeSBolXEhw",
        "colab": {
          "base_uri": "https://localhost:8080/"
        },
        "outputId": "0bdc58cc-7f02-4d95-cf2f-d078816a4754"
      },
      "source": [
        "data = df.sort_index(ascending=True, axis=0)\n",
        "new_data = pd.DataFrame(index=range(0,len(df)),columns=['Date', 'Adj Close'])\n",
        "print(new_data)"
      ],
      "execution_count": 87,
      "outputs": [
        {
          "output_type": "stream",
          "text": [
            "     Date Adj Close\n",
            "0     NaN       NaN\n",
            "1     NaN       NaN\n",
            "2     NaN       NaN\n",
            "3     NaN       NaN\n",
            "4     NaN       NaN\n",
            "...   ...       ...\n",
            "2463  NaN       NaN\n",
            "2464  NaN       NaN\n",
            "2465  NaN       NaN\n",
            "2466  NaN       NaN\n",
            "2467  NaN       NaN\n",
            "\n",
            "[2468 rows x 2 columns]\n"
          ],
          "name": "stdout"
        }
      ]
    },
    {
      "cell_type": "code",
      "metadata": {
        "id": "b2h1tAFnXT-M"
      },
      "source": [
        "for i in range(0,len(data)):\n",
        "     new_data['Date'][i] = data['Date'][i]\n",
        "     new_data['Adj Close'][i] = data['Adj Close'][i]\n",
        "new_data = new_data.dropna(how='any',axis=0)\n"
      ],
      "execution_count": 88,
      "outputs": []
    },
    {
      "cell_type": "code",
      "metadata": {
        "colab": {
          "base_uri": "https://localhost:8080/"
        },
        "id": "sHnQRhgPXdyS",
        "outputId": "bb85e37d-7961-41ee-d112-03e6f99c6013"
      },
      "source": [
        "print(new_data)"
      ],
      "execution_count": 89,
      "outputs": [
        {
          "output_type": "stream",
          "text": [
            "                     Date Adj Close\n",
            "0     2010-01-04 00:00:00   207.032\n",
            "1     2010-01-05 00:00:00   212.844\n",
            "2     2010-01-06 00:00:00    207.66\n",
            "3     2010-01-07 00:00:00   202.016\n",
            "4     2010-01-08 00:00:00   199.716\n",
            "...                   ...       ...\n",
            "2463  2019-12-23 00:00:00   40.3553\n",
            "2464  2019-12-24 00:00:00   40.3553\n",
            "2465  2019-12-26 00:00:00   41.7333\n",
            "2466  2019-12-27 00:00:00   41.4873\n",
            "2467  2019-12-30 00:00:00   42.4223\n",
            "\n",
            "[2460 rows x 2 columns]\n"
          ],
          "name": "stdout"
        }
      ]
    },
    {
      "cell_type": "code",
      "metadata": {
        "id": "jYHBJKrQYgN2"
      },
      "source": [
        "#split into train and validation\n",
        "train_len= int(0.8*len(data))\n",
        "train = new_data[:train_len]\n",
        "valid = new_data[train_len:]\n",
        "# print(train.shape)\n",
        "# print(valid.shape)\n"
      ],
      "execution_count": 90,
      "outputs": []
    },
    {
      "cell_type": "code",
      "metadata": {
        "id": "_Ospf9akZDUY"
      },
      "source": [
        "preds = []\n",
        "for i in range(0,valid.shape[0]):\n",
        "    a = train['Adj Close'][len(train)-480+i:].sum() + sum(preds)\n",
        "    b = a/488\n",
        "    preds.append(b)\n",
        "\n"
      ],
      "execution_count": 91,
      "outputs": []
    },
    {
      "cell_type": "code",
      "metadata": {
        "colab": {
          "base_uri": "https://localhost:8080/"
        },
        "id": "W0Mgtmt4ZXbo",
        "outputId": "95942435-c66a-4eb9-f6e0-3c56db35bd6c"
      },
      "source": [
        "rms=np.sqrt(np.mean(np.power((np.array(valid['Adj Close'])-preds),2)))\n",
        "print('\\n RMSE value on validation set:')\n",
        "print(rms)"
      ],
      "execution_count": 92,
      "outputs": [
        {
          "output_type": "stream",
          "text": [
            "\n",
            " RMSE value on validation set:\n",
            "18.48042550376869\n"
          ],
          "name": "stdout"
        }
      ]
    },
    {
      "cell_type": "code",
      "metadata": {
        "id": "zNtitQO6ZgdZ",
        "colab": {
          "base_uri": "https://localhost:8080/",
          "height": 504
        },
        "outputId": "de3940e0-6b50-4343-dd7a-c05eb722d3be"
      },
      "source": [
        "valid['Predictions'] = 0\n",
        "valid['Predictions'] = preds\n",
        "plt.plot(train['Adj Close'])\n",
        "plt.plot(valid[['Adj Close', 'Predictions']])"
      ],
      "execution_count": 93,
      "outputs": [
        {
          "output_type": "stream",
          "text": [
            "/usr/local/lib/python3.7/dist-packages/ipykernel_launcher.py:1: SettingWithCopyWarning: \n",
            "A value is trying to be set on a copy of a slice from a DataFrame.\n",
            "Try using .loc[row_indexer,col_indexer] = value instead\n",
            "\n",
            "See the caveats in the documentation: https://pandas.pydata.org/pandas-docs/stable/user_guide/indexing.html#returning-a-view-versus-a-copy\n",
            "  \"\"\"Entry point for launching an IPython kernel.\n",
            "/usr/local/lib/python3.7/dist-packages/ipykernel_launcher.py:2: SettingWithCopyWarning: \n",
            "A value is trying to be set on a copy of a slice from a DataFrame.\n",
            "Try using .loc[row_indexer,col_indexer] = value instead\n",
            "\n",
            "See the caveats in the documentation: https://pandas.pydata.org/pandas-docs/stable/user_guide/indexing.html#returning-a-view-versus-a-copy\n",
            "  \n"
          ],
          "name": "stderr"
        },
        {
          "output_type": "execute_result",
          "data": {
            "text/plain": [
              "[<matplotlib.lines.Line2D at 0x7fedeaf42890>,\n",
              " <matplotlib.lines.Line2D at 0x7fedeaf42a90>]"
            ]
          },
          "metadata": {
            "tags": []
          },
          "execution_count": 93
        },
        {
          "output_type": "display_data",
          "data": {
            "image/png": "[encoded data removed]",
            "text/plain": [
              "<Figure size 432x288 with 1 Axes>"
            ]
          },
          "metadata": {
            "tags": [],
            "needs_background": "light"
          }
        }
      ]
    },
    {
      "cell_type": "code",
      "metadata": {
        "id": "pE6Y7b27dAnr"
      },
      "source": [
        ""
      ],
      "execution_count": 93,
      "outputs": []
    }
  ]
}