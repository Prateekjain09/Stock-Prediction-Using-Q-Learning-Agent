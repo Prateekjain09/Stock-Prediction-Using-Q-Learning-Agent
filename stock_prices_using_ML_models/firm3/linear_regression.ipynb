{
  "nbformat": 4,
  "nbformat_minor": 0,
  "metadata": {
    "colab": {
      "name": "linear_regression.ipynb",
      "provenance": []
    },
    "kernelspec": {
      "name": "python3",
      "display_name": "Python 3"
    },
    "language_info": {
      "name": "python"
    }
  },
  "cells": [
    {
      "cell_type": "code",
      "metadata": {
        "id": "EXtkRaJT61hx"
      },
      "source": [
        "from sklearn import neighbors\n",
        "from sklearn.model_selection import GridSearchCV\n",
        "from sklearn.preprocessing import MinMaxScaler\n",
        "scaler = MinMaxScaler(feature_range=(0, 1))\n",
        "import fastai.tabular\n",
        "import numpy as np\n",
        "import pandas as pd\n",
        "import matplotlib.pyplot as plt\n",
        "from keras.models import Sequential\n",
        "from keras.layers import Dense, Dropout, LSTM\n",
        "from fastai.tabular import  add_datepart"
      ],
      "execution_count": 94,
      "outputs": []
    },
    {
      "cell_type": "code",
      "metadata": {
        "id": "thquDitFd7A8"
      },
      "source": [
        "filename='SAIL.NS.csv'  #change filename\n",
        "df=pd.read_csv(filename)"
      ],
      "execution_count": 95,
      "outputs": []
    },
    {
      "cell_type": "code",
      "metadata": {
        "id": "oI5dREBYdIjr"
      },
      "source": [
        "#creating dataframe\n",
        "data = df.sort_index(ascending=True, axis=0)\n",
        "new_data = pd.DataFrame(index=range(0,len(df)),columns=['Date', 'Adj Close'])\n",
        "for i in range(0,len(data)):\n",
        "    new_data['Date'][i] = data['Date'][i]\n",
        "    new_data['Adj Close'][i] = data['Adj Close'][i]\n"
      ],
      "execution_count": 96,
      "outputs": []
    },
    {
      "cell_type": "code",
      "metadata": {
        "colab": {
          "base_uri": "https://localhost:8080/"
        },
        "id": "Usg7FoeU9QdD",
        "outputId": "f7f68117-be76-4035-c585-3227b5f2a9c0"
      },
      "source": [
        "add_datepart(new_data, 'Date')\n",
        "new_data.drop('Elapsed', axis=1, inplace=True)  #elapsed will be the time stamp\n",
        "# new_data = new_data.dropna(how='any',axis=0)\n"
      ],
      "execution_count": 97,
      "outputs": [
        {
          "output_type": "stream",
          "text": [
            "/usr/local/lib/python3.7/dist-packages/fastai/tabular/transform.py:63: FutureWarning: Series.dt.weekofyear and Series.dt.week have been deprecated.  Please use Series.dt.isocalendar().week instead.\n",
            "  for n in attr: df[prefix + n] = getattr(field.dt, n.lower())\n"
          ],
          "name": "stderr"
        }
      ]
    },
    {
      "cell_type": "code",
      "metadata": {
        "colab": {
          "base_uri": "https://localhost:8080/"
        },
        "id": "WDPq5CzVUx4g",
        "outputId": "d96ece81-f8e1-4399-898a-c6fdb48b4836"
      },
      "source": [
        "print(new_data)"
      ],
      "execution_count": 98,
      "outputs": [
        {
          "output_type": "stream",
          "text": [
            "     Adj Close  Year  Month  ...  Is_quarter_start  Is_year_end  Is_year_start\n",
            "0      207.032  2010      1  ...             False        False          False\n",
            "1      212.844  2010      1  ...             False        False          False\n",
            "2       207.66  2010      1  ...             False        False          False\n",
            "3      202.016  2010      1  ...             False        False          False\n",
            "4      199.716  2010      1  ...             False        False          False\n",
            "...        ...   ...    ...  ...               ...          ...            ...\n",
            "2463   40.3553  2019     12  ...             False        False          False\n",
            "2464   40.3553  2019     12  ...             False        False          False\n",
            "2465   41.7333  2019     12  ...             False        False          False\n",
            "2466   41.4873  2019     12  ...             False        False          False\n",
            "2467   42.4223  2019     12  ...             False        False          False\n",
            "\n",
            "[2468 rows x 13 columns]\n"
          ],
          "name": "stdout"
        }
      ]
    },
    {
      "cell_type": "code",
      "metadata": {
        "colab": {
          "base_uri": "https://localhost:8080/"
        },
        "id": "lLb2H1gs9XQl",
        "outputId": "3fde7d4a-77ea-4547-914e-9c3f3b5724e2"
      },
      "source": [
        "new_data['mon_fri'] = 0\n",
        "for i in range(0,len(new_data)):\n",
        "    if (new_data['Dayofweek'][i] == 0 or new_data['Dayofweek'][i] == 4):\n",
        "        new_data['mon_fri'][i] = 1\n",
        "    else:\n",
        "        new_data['mon_fri'][i] = 0"
      ],
      "execution_count": 99,
      "outputs": [
        {
          "output_type": "stream",
          "text": [
            "/usr/local/lib/python3.7/dist-packages/ipykernel_launcher.py:4: SettingWithCopyWarning: \n",
            "A value is trying to be set on a copy of a slice from a DataFrame\n",
            "\n",
            "See the caveats in the documentation: https://pandas.pydata.org/pandas-docs/stable/user_guide/indexing.html#returning-a-view-versus-a-copy\n",
            "  after removing the cwd from sys.path.\n",
            "/usr/local/lib/python3.7/dist-packages/ipykernel_launcher.py:6: SettingWithCopyWarning: \n",
            "A value is trying to be set on a copy of a slice from a DataFrame\n",
            "\n",
            "See the caveats in the documentation: https://pandas.pydata.org/pandas-docs/stable/user_guide/indexing.html#returning-a-view-versus-a-copy\n",
            "  \n"
          ],
          "name": "stderr"
        }
      ]
    },
    {
      "cell_type": "code",
      "metadata": {
        "id": "oQh5qGF_9hTB"
      },
      "source": [
        "#split into train and validation\n",
        "new_data = new_data.dropna(how='any',axis=0)\n",
        "\n",
        "train_len= int(0.8*len(data))\n",
        "train = new_data[:train_len]\n",
        "valid = new_data[train_len:]\n",
        "\n",
        "x_train = train.drop('Adj Close', axis=1)\n",
        "y_train = train['Adj Close']\n",
        "x_valid = valid.drop('Adj Close', axis=1)\n",
        "y_valid = valid['Adj Close']"
      ],
      "execution_count": 100,
      "outputs": []
    },
    {
      "cell_type": "code",
      "metadata": {
        "id": "i5rITnZy9oZo",
        "colab": {
          "base_uri": "https://localhost:8080/"
        },
        "outputId": "80320b3f-3732-4afe-f61c-c435960dd311"
      },
      "source": [
        "#implement linear regression\n",
        "from sklearn.linear_model import LinearRegression\n",
        "model = LinearRegression()\n",
        "model.fit(x_train,y_train)"
      ],
      "execution_count": 101,
      "outputs": [
        {
          "output_type": "execute_result",
          "data": {
            "text/plain": [
              "LinearRegression(copy_X=True, fit_intercept=True, n_jobs=None, normalize=False)"
            ]
          },
          "metadata": {
            "tags": []
          },
          "execution_count": 101
        }
      ]
    },
    {
      "cell_type": "code",
      "metadata": {
        "colab": {
          "base_uri": "https://localhost:8080/"
        },
        "id": "GXowAzXw9sFq",
        "outputId": "6cdbc655-2c81-43d4-cc1c-8e53309f3f7c"
      },
      "source": [
        "preds = model.predict(x_valid)\n",
        "\n",
        "rms=np.sqrt(np.mean(np.power((np.array(y_valid)-np.array(preds)),2)))\n",
        "rms"
      ],
      "execution_count": 102,
      "outputs": [
        {
          "output_type": "execute_result",
          "data": {
            "text/plain": [
              "45.397565042605756"
            ]
          },
          "metadata": {
            "tags": []
          },
          "execution_count": 102
        }
      ]
    },
    {
      "cell_type": "code",
      "metadata": {
        "colab": {
          "base_uri": "https://localhost:8080/",
          "height": 483
        },
        "id": "ugDb2xFrdv9k",
        "outputId": "297731d9-b147-470e-9283-c7bb3919c556"
      },
      "source": [
        "#plot\n",
        "valid['Predictions'] = 0\n",
        "valid['Predictions'] = preds\n",
        "plt.plot(valid[['Adj Close', 'Predictions']])\n",
        "plt.plot(train['Adj Close'])\n"
      ],
      "execution_count": 103,
      "outputs": [
        {
          "output_type": "stream",
          "text": [
            "/usr/local/lib/python3.7/dist-packages/ipykernel_launcher.py:2: SettingWithCopyWarning: \n",
            "A value is trying to be set on a copy of a slice from a DataFrame.\n",
            "Try using .loc[row_indexer,col_indexer] = value instead\n",
            "\n",
            "See the caveats in the documentation: https://pandas.pydata.org/pandas-docs/stable/user_guide/indexing.html#returning-a-view-versus-a-copy\n",
            "  \n",
            "/usr/local/lib/python3.7/dist-packages/ipykernel_launcher.py:3: SettingWithCopyWarning: \n",
            "A value is trying to be set on a copy of a slice from a DataFrame.\n",
            "Try using .loc[row_indexer,col_indexer] = value instead\n",
            "\n",
            "See the caveats in the documentation: https://pandas.pydata.org/pandas-docs/stable/user_guide/indexing.html#returning-a-view-versus-a-copy\n",
            "  This is separate from the ipykernel package so we can avoid doing imports until\n"
          ],
          "name": "stderr"
        },
        {
          "output_type": "execute_result",
          "data": {
            "text/plain": [
              "[<matplotlib.lines.Line2D at 0x7f51935e1d50>]"
            ]
          },
          "metadata": {
            "tags": []
          },
          "execution_count": 103
        },
        {
          "output_type": "display_data",
          "data": {
            "image/png": "[encoded data removed]",
            "text/plain": [
              "<Figure size 432x288 with 1 Axes>"
            ]
          },
          "metadata": {
            "tags": [],
            "needs_background": "light"
          }
        }
      ]
    },
    {
      "cell_type": "code",
      "metadata": {
        "id": "SFRiu4O3ANmy",
        "colab": {
          "base_uri": "https://localhost:8080/"
        },
        "outputId": "b4a1fd3e-a9d2-4617-934c-9bc0f9be8f17"
      },
      "source": [
        "model.score(x_valid,y_valid)"
      ],
      "execution_count": 104,
      "outputs": [
        {
          "output_type": "execute_result",
          "data": {
            "text/plain": [
              "-5.949428746331518"
            ]
          },
          "metadata": {
            "tags": []
          },
          "execution_count": 104
        }
      ]
    },
    {
      "cell_type": "code",
      "metadata": {
        "id": "d0WW08p_VzMF"
      },
      "source": [
        ""
      ],
      "execution_count": 104,
      "outputs": []
    }
  ]
}